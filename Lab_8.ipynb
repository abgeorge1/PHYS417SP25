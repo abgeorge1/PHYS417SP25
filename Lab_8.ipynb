{
 "cells": [
  {
   "cell_type": "markdown",
   "id": "c76bd7e6",
   "metadata": {},
   "source": [
    "# Lab 8 Report: \n",
    "## FINAL PROJECT STRATEGIC PLANNING"
   ]
  },
  {
   "cell_type": "markdown",
   "id": "3f5ed902",
   "metadata": {},
   "source": [
    "### Lab 8 Instruction: \n",
    "https://canvas.uw.edu/files/106242897/download?download_frd=1"
   ]
  },
  {
   "cell_type": "markdown",
   "id": "0098c149",
   "metadata": {},
   "source": [
    "### Team Members:"
   ]
  },
  {
   "cell_type": "markdown",
   "id": "36869478",
   "metadata": {},
   "source": [
    "### Dataset for your project:"
   ]
  },
  {
   "cell_type": "markdown",
   "id": "7b08ff02",
   "metadata": {},
   "source": [
    "#### Feel free to delete or modify pre-written markdown cells below the line"
   ]
  },
  {
   "cell_type": "markdown",
   "id": "3fe993be",
   "metadata": {},
   "source": [
    "---"
   ]
  },
  {
   "cell_type": "markdown",
   "id": "596ea344",
   "metadata": {},
   "source": [
    "## Understanding the Data"
   ]
  },
  {
   "cell_type": "markdown",
   "id": "3f86db04-9381-4171-b0ae-1ecbff08abde",
   "metadata": {},
   "source": [
    "a. Data size and structure: How big is the data? How is it structured? Are there any\n",
    "obvious patterns? If so, are they expected? Any unused features? Etc.\n",
    "\n",
    "    The data is 945 x 1149. It is structure where each row is a different participant. There are no obvious patterns that are noticed because there is so much data per participant. There will probably be some unused features, like date of EEG, and the main disorder. \n",
    "    \n",
    "b. Data cleanness Is some of the data corrupted? Is some data mislabeled? If it's\n",
    "simulated, does the simulator have any limitations\n",
    "\n",
    "    None of the data looks to be corrupted, and none of it is simulated. \n",
    "    \n",
    "c. Diversity of features: How many features (e.g., # of pixels, # of columns) are\n",
    "there per data sample? Does your dataset have approximately equal number of\n",
    "datapoints per label?\n",
    "\n",
    "    There are 1149 columns, with two being the disorder that we are trying to find, so 1147 columns to use. Most of the columns are the power each EEG frequency band (delta, theta, alpha, beta, gamma). \n",
    "    "
   ]
  },
  {
   "cell_type": "markdown",
   "id": "526dd6ab",
   "metadata": {},
   "source": [
    "## Understanding the Task"
   ]
  },
  {
   "cell_type": "markdown",
   "id": "817b295a-c005-4633-9d20-1309284f7514",
   "metadata": {},
   "source": [
    "a. What problem are you trying to solve with your neural network model? (e.g.,\n",
    "classification or regression?)\n",
    "\n",
    "    We are trying to solve a classification problem for a psychiatric disorder. \n",
    "    \n",
    "b. What is the significance of solving the problem?\n",
    "\n",
    "    By solving this problem, we would be able to draw a connection between EEG data and psychiatric disorders. There aren't many physical ways to diagnose psychiatric disorders, causing a lot of them to be missed by doctors. This neural network allows patients to know if they share similar markers to other patients with certain psychiatric disorders, which will then help with the diagnosis of that disorder. \n",
    "    \n",
    "c. What will be the evaluation metric for your neural network model?\n",
    "\n",
    "    The evaluation metric will be the accuracy of the test set. \n",
    "    \n",
    "d. What would constitute a good performance?\n",
    "\n",
    "    A good performance would be above 80% accuracy. \n",
    "    \n",
    "e. Is there a baseline method to compare against after meeting the performance?\n",
    "(e.g., classical machine learning method, other neural network models)\n",
    "\n"
   ]
  },
  {
   "cell_type": "markdown",
   "id": "f275694a",
   "metadata": {},
   "source": [
    "## Developing an initial plan for your project"
   ]
  },
  {
   "cell_type": "markdown",
   "id": "70ec29c3-33e3-4677-8ba3-cc4e7e813249",
   "metadata": {},
   "source": [
    "a. What will be the inputs and outputs (including their dimensions) of your neural\n",
    "network model? • What data preparation methods do you plan to use?\n",
    "\n",
    "    The inputs will be the data from the EEG sensors, which is 1141 columns. Additional inputs of sex, age, and IQ may be added for accuracy. The output is the psychiatric disorder, which there are 12 different options. We will splice our data to remove unnecessary columns, and then randomly divided into training, validation, and test sets. \n",
    "    \n",
    "b. What neural network model do you plan to use? (FCN, CNN, RNN, etc)\n",
    "\n",
    "    We plan to use an RNN and possibly adding a CNN as well if the RNN is not effective. The data would be converted into an image showing spatial intensity of the EEG, and this could then be run through a CNN. \n",
    "    \n",
    "c. What loss function do you plan to use?\n",
    "\n",
    "    We will start with a cross entropy loss, then adjust it if it proves to be ineffective. \n",
    "    \n",
    "d. How do you plan to evaluate your model?\n",
    "\n",
    "    We will evaluate our model based on the classification accuracy of a test set. "
   ]
  }
 ],
 "metadata": {
  "kernelspec": {
   "display_name": "Python 3 (ipykernel)",
   "language": "python",
   "name": "python3"
  },
  "language_info": {
   "codemirror_mode": {
    "name": "ipython",
    "version": 3
   },
   "file_extension": ".py",
   "mimetype": "text/x-python",
   "name": "python",
   "nbconvert_exporter": "python",
   "pygments_lexer": "ipython3",
   "version": "3.12.9"
  }
 },
 "nbformat": 4,
 "nbformat_minor": 5
}
